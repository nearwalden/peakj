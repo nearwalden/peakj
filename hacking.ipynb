{
 "cells": [
  {
   "cell_type": "code",
   "execution_count": 174,
   "id": "b1f03537-3ea8-414d-8a3e-d3d10ce8e472",
   "metadata": {
    "tags": []
   },
   "outputs": [
    {
     "data": {
      "text/plain": [
       "compareallnames (generic function with 1 method)"
      ]
     },
     "execution_count": 174,
     "metadata": {},
     "output_type": "execute_result"
    }
   ],
   "source": [
    "include(\"locations.jl\")"
   ]
  },
  {
   "cell_type": "code",
   "execution_count": 2,
   "id": "6ff4a6b7-15b7-4566-ae29-8270f749c985",
   "metadata": {
    "tags": []
   },
   "outputs": [],
   "source": [
    "using DataFrames"
   ]
  },
  {
   "cell_type": "code",
   "execution_count": 11,
   "id": "33f6806c-c22e-4b6e-9aa2-bc337b0f0d56",
   "metadata": {
    "tags": []
   },
   "outputs": [],
   "source": [
    "using CSV"
   ]
  },
  {
   "cell_type": "code",
   "execution_count": 175,
   "id": "f3e4af6c-732f-4ee4-9282-7b3b2d41a20b",
   "metadata": {
    "tags": []
   },
   "outputs": [
    {
     "name": "stdout",
     "output_type": "stream",
     "text": [
      "BU = 196, WU = 220, All = 185"
     ]
    }
   ],
   "source": [
    "compareallnames(b, w, u)"
   ]
  },
  {
   "cell_type": "code",
   "execution_count": 163,
   "id": "942c0eb4-6e35-4346-bbb9-003cfa48ae1f",
   "metadata": {
    "tags": []
   },
   "outputs": [
    {
     "data": {
      "text/plain": [
       "Dict{String, Vector{Any}} with 3 entries:\n",
       "  \"un\"   => [\"WORLD\", \"UN development groups\", \"More developed regions\", \"Less …\n",
       "  \"bmgf\" => [\"Global\", \"Central Europe, Eastern Europe, and Central Asia\", \"Cen…\n",
       "  \"both\" => [\"Central Asia\", \"Eastern Europe\", \"Western Europe\", \"Caribbean\", \"…"
      ]
     },
     "execution_count": 163,
     "metadata": {},
     "output_type": "execute_result"
    }
   ],
   "source": [
    "c = comparenames(b, \"bmgf\", u)"
   ]
  },
  {
   "cell_type": "code",
   "execution_count": 167,
   "id": "9d1c6193-cd9b-416d-8a74-4658cb4920de",
   "metadata": {},
   "outputs": [
    {
     "data": {
      "text/plain": [
       "196-element Vector{Any}:\n",
       " \"Central Asia\"\n",
       " \"Eastern Europe\"\n",
       " \"Western Europe\"\n",
       " \"Caribbean\"\n",
       " \"Oceania\"\n",
       " \"Armenia\"\n",
       " \"Azerbaijan\"\n",
       " \"Georgia\"\n",
       " \"Kazakhstan\"\n",
       " \"Kyrgyzstan\"\n",
       " \"Mongolia\"\n",
       " \"Tajikistan\"\n",
       " \"Turkmenistan\"\n",
       " ⋮\n",
       " \"Ghana\"\n",
       " \"Guinea\"\n",
       " \"Guinea-Bissau\"\n",
       " \"Liberia\"\n",
       " \"Mali\"\n",
       " \"Mauritania\"\n",
       " \"Niger\"\n",
       " \"Nigeria\"\n",
       " \"Sao Tome and Principe\"\n",
       " \"Senegal\"\n",
       " \"Sierra Leone\"\n",
       " \"Togo\""
      ]
     },
     "execution_count": 167,
     "metadata": {},
     "output_type": "execute_result"
    }
   ],
   "source": [
    "c[\"both\"]"
   ]
  },
  {
   "cell_type": "code",
   "execution_count": 149,
   "id": "e8f0a06d-f972-48a0-925d-0e37a95c31f7",
   "metadata": {
    "tags": []
   },
   "outputs": [
    {
     "name": "stdout",
     "output_type": "stream",
     "text": [
      "Central AsiaEastern EuropeWestern EuropeCaribbeanOceaniaArmeniaAzerbaijanGeorgiaKazakhstanKyrgyzstanMongoliaTajikistanTurkmenistanUzbekistanAlbaniaBosnia and HerzegovinaBulgariaCroatiaCzechiaHungaryNorth MacedoniaMontenegroPolandRomaniaSerbiaSlovakiaSloveniaBelarusEstoniaLatviaLithuaniaRepublic of MoldovaRussian FederationUkraineAustraliaNew ZealandBrunei DarussalamJapanRepublic of KoreaSingaporeCanadaGreenlandUnited States of AmericaArgentinaChileUruguayAndorraAustriaBelgiumCyprusDenmarkFinlandFranceGermanyGreeceIcelandIrelandIsraelItalyLuxembourgMaltaNetherlandsNorwayPortugalSpainSwedenSwitzerlandUnited KingdomBolivia (Plurinational State of)EcuadorPeruAntigua and BarbudaBahamasBarbadosBelizeBermudaCubaDominicaDominican RepublicGrenadaGuyanaHaitiJamaicaPuerto RicoSaint LuciaSaint Vincent and the GrenadinesSurinameTrinidad and TobagoUnited States Virgin IslandsColombiaCosta RicaEl SalvadorGuatemalaHondurasMexicoNicaraguaPanamaVenezuela (Bolivarian Republic of)BrazilParaguayAfghanistanAlgeriaBahrainEgyptIran (Islamic Republic of)IraqJordanKuwaitLebanonLibyaMoroccoOmanQatarSaudi ArabiaSudanSyrian Arab RepublicTunisiaTurkeyUnited Arab EmiratesYemenBangladeshBhutanIndiaNepalPakistanChinaAmerican SamoaFijiGuamKiribatiMarshall IslandsNorthern Mariana IslandsPapua New GuineaSamoaSolomon IslandsTongaVanuatuCambodiaIndonesiaLao People's Democratic RepublicMalaysiaMaldivesMauritiusMyanmarPhilippinesSri LankaSeychellesThailandTimor-LesteViet NamAngolaCentral African RepublicCongoDemocratic Republic of the CongoEquatorial GuineaGabonBurundiComorosDjiboutiEritreaEthiopiaKenyaMadagascarMalawiMozambiqueRwandaSomaliaSouth SudanUnited Republic of TanzaniaUgandaZambiaBotswanaLesothoNamibiaSouth AfricaEswatiniZimbabweBeninBurkina FasoCameroonCabo VerdeChadCôte d'IvoireGambiaGhanaGuineaGuinea-BissauLiberiaMaliMauritaniaNigerNigeriaSao Tome and PrincipeSenegalSierra LeoneTogo"
     ]
    }
   ],
   "source": [
    "for item in b\n",
    "    if item in u.Region\n",
    "        print(item)\n",
    "    end\n",
    "end"
   ]
  },
  {
   "cell_type": "code",
   "execution_count": null,
   "id": "e5b43ba2-aec0-4bee-bdfd-e4fa6000b14d",
   "metadata": {},
   "outputs": [],
   "source": []
  }
 ],
 "metadata": {
  "kernelspec": {
   "display_name": "Julia 1.9.2",
   "language": "julia",
   "name": "julia-1.9"
  },
  "language_info": {
   "file_extension": ".jl",
   "mimetype": "application/julia",
   "name": "julia",
   "version": "1.9.2"
  }
 },
 "nbformat": 4,
 "nbformat_minor": 5
}
