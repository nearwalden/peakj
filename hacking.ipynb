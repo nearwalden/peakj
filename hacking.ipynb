{
 "cells": [
  {
   "cell_type": "code",
   "execution_count": 116,
   "id": "b1f03537-3ea8-414d-8a3e-d3d10ce8e472",
   "metadata": {
    "tags": []
   },
   "outputs": [
    {
     "data": {
      "text/plain": [
       "un2019countrynames (generic function with 1 method)"
      ]
     },
     "execution_count": 116,
     "metadata": {},
     "output_type": "execute_result"
    }
   ],
   "source": [
    "include(\"locations.jl\")"
   ]
  },
  {
   "cell_type": "code",
   "execution_count": 2,
   "id": "6ff4a6b7-15b7-4566-ae29-8270f749c985",
   "metadata": {
    "tags": []
   },
   "outputs": [],
   "source": [
    "using DataFrames"
   ]
  },
  {
   "cell_type": "code",
   "execution_count": 11,
   "id": "33f6806c-c22e-4b6e-9aa2-bc337b0f0d56",
   "metadata": {
    "tags": []
   },
   "outputs": [],
   "source": [
    "using CSV"
   ]
  },
  {
   "cell_type": "code",
   "execution_count": 28,
   "id": "f3e4af6c-732f-4ee4-9282-7b3b2d41a20b",
   "metadata": {
    "tags": []
   },
   "outputs": [
    {
     "data": {
      "text/html": [
       "<div><div style = \"float: left;\"><span>310×3 DataFrame</span></div><div style = \"float: right;\"><span style = \"font-style: italic;\">285 rows omitted</span></div><div style = \"clear: both;\"></div></div><div class = \"data-frame\" style = \"overflow-x: scroll;\"><table class = \"data-frame\" style = \"margin-bottom: 6px;\"><thead><tr class = \"header\"><th class = \"rowNumber\" style = \"font-weight: bold; text-align: right;\">Row</th><th style = \"text-align: left;\">dim</th><th style = \"text-align: left;\">name</th><th style = \"text-align: left;\">code</th></tr><tr class = \"subheader headerLastRow\"><th class = \"rowNumber\" style = \"font-weight: bold; text-align: right;\"></th><th title = \"String7\" style = \"text-align: left;\">String7</th><th title = \"String\" style = \"text-align: left;\">String</th><th title = \"Int64\" style = \"text-align: left;\">Int64</th></tr></thead><tbody><tr><td class = \"rowNumber\" style = \"font-weight: bold; text-align: right;\">1</td><td style = \"text-align: left;\">ageno</td><td style = \"text-align: left;\">All</td><td style = \"text-align: right;\">0</td></tr><tr><td class = \"rowNumber\" style = \"font-weight: bold; text-align: right;\">2</td><td style = \"text-align: left;\">ageno</td><td style = \"text-align: left;\">0--4</td><td style = \"text-align: right;\">1</td></tr><tr><td class = \"rowNumber\" style = \"font-weight: bold; text-align: right;\">3</td><td style = \"text-align: left;\">ageno</td><td style = \"text-align: left;\">5--9</td><td style = \"text-align: right;\">2</td></tr><tr><td class = \"rowNumber\" style = \"font-weight: bold; text-align: right;\">4</td><td style = \"text-align: left;\">ageno</td><td style = \"text-align: left;\">10--14</td><td style = \"text-align: right;\">3</td></tr><tr><td class = \"rowNumber\" style = \"font-weight: bold; text-align: right;\">5</td><td style = \"text-align: left;\">ageno</td><td style = \"text-align: left;\">15--19</td><td style = \"text-align: right;\">4</td></tr><tr><td class = \"rowNumber\" style = \"font-weight: bold; text-align: right;\">6</td><td style = \"text-align: left;\">ageno</td><td style = \"text-align: left;\">20--24</td><td style = \"text-align: right;\">5</td></tr><tr><td class = \"rowNumber\" style = \"font-weight: bold; text-align: right;\">7</td><td style = \"text-align: left;\">ageno</td><td style = \"text-align: left;\">25--29</td><td style = \"text-align: right;\">6</td></tr><tr><td class = \"rowNumber\" style = \"font-weight: bold; text-align: right;\">8</td><td style = \"text-align: left;\">ageno</td><td style = \"text-align: left;\">30--34</td><td style = \"text-align: right;\">7</td></tr><tr><td class = \"rowNumber\" style = \"font-weight: bold; text-align: right;\">9</td><td style = \"text-align: left;\">ageno</td><td style = \"text-align: left;\">35--39</td><td style = \"text-align: right;\">8</td></tr><tr><td class = \"rowNumber\" style = \"font-weight: bold; text-align: right;\">10</td><td style = \"text-align: left;\">ageno</td><td style = \"text-align: left;\">40--44</td><td style = \"text-align: right;\">9</td></tr><tr><td class = \"rowNumber\" style = \"font-weight: bold; text-align: right;\">11</td><td style = \"text-align: left;\">ageno</td><td style = \"text-align: left;\">45--49</td><td style = \"text-align: right;\">10</td></tr><tr><td class = \"rowNumber\" style = \"font-weight: bold; text-align: right;\">12</td><td style = \"text-align: left;\">ageno</td><td style = \"text-align: left;\">50--54</td><td style = \"text-align: right;\">11</td></tr><tr><td class = \"rowNumber\" style = \"font-weight: bold; text-align: right;\">13</td><td style = \"text-align: left;\">ageno</td><td style = \"text-align: left;\">55--59</td><td style = \"text-align: right;\">12</td></tr><tr><td style = \"text-align: right;\">&vellip;</td><td style = \"text-align: right;\">&vellip;</td><td style = \"text-align: right;\">&vellip;</td><td style = \"text-align: right;\">&vellip;</td></tr><tr><td class = \"rowNumber\" style = \"font-weight: bold; text-align: right;\">299</td><td style = \"text-align: left;\">isono</td><td style = \"text-align: left;\">Nauru</td><td style = \"text-align: right;\">520</td></tr><tr><td class = \"rowNumber\" style = \"font-weight: bold; text-align: right;\">300</td><td style = \"text-align: left;\">isono</td><td style = \"text-align: left;\">Northern Mariana Islands</td><td style = \"text-align: right;\">580</td></tr><tr><td class = \"rowNumber\" style = \"font-weight: bold; text-align: right;\">301</td><td style = \"text-align: left;\">isono</td><td style = \"text-align: left;\">Palau</td><td style = \"text-align: right;\">585</td></tr><tr><td class = \"rowNumber\" style = \"font-weight: bold; text-align: right;\">302</td><td style = \"text-align: left;\">isono</td><td style = \"text-align: left;\">American Samoa</td><td style = \"text-align: right;\">16</td></tr><tr><td class = \"rowNumber\" style = \"font-weight: bold; text-align: right;\">303</td><td style = \"text-align: left;\">isono</td><td style = \"text-align: left;\">Cook Islands</td><td style = \"text-align: right;\">184</td></tr><tr><td class = \"rowNumber\" style = \"font-weight: bold; text-align: right;\">304</td><td style = \"text-align: left;\">isono</td><td style = \"text-align: left;\">French Polynesia</td><td style = \"text-align: right;\">258</td></tr><tr><td class = \"rowNumber\" style = \"font-weight: bold; text-align: right;\">305</td><td style = \"text-align: left;\">isono</td><td style = \"text-align: left;\">Niue</td><td style = \"text-align: right;\">570</td></tr><tr><td class = \"rowNumber\" style = \"font-weight: bold; text-align: right;\">306</td><td style = \"text-align: left;\">isono</td><td style = \"text-align: left;\">Samoa</td><td style = \"text-align: right;\">882</td></tr><tr><td class = \"rowNumber\" style = \"font-weight: bold; text-align: right;\">307</td><td style = \"text-align: left;\">isono</td><td style = \"text-align: left;\">Tokelau</td><td style = \"text-align: right;\">772</td></tr><tr><td class = \"rowNumber\" style = \"font-weight: bold; text-align: right;\">308</td><td style = \"text-align: left;\">isono</td><td style = \"text-align: left;\">Tonga</td><td style = \"text-align: right;\">776</td></tr><tr><td class = \"rowNumber\" style = \"font-weight: bold; text-align: right;\">309</td><td style = \"text-align: left;\">isono</td><td style = \"text-align: left;\">Tuvalu</td><td style = \"text-align: right;\">798</td></tr><tr><td class = \"rowNumber\" style = \"font-weight: bold; text-align: right;\">310</td><td style = \"text-align: left;\">isono</td><td style = \"text-align: left;\">Wallis and Futuna Islands</td><td style = \"text-align: right;\">876</td></tr></tbody></table></div>"
      ],
      "text/latex": [
       "\\begin{tabular}{r|ccc}\n",
       "\t& dim & name & code\\\\\n",
       "\t\\hline\n",
       "\t& String7 & String & Int64\\\\\n",
       "\t\\hline\n",
       "\t1 & ageno & All & 0 \\\\\n",
       "\t2 & ageno & 0--4 & 1 \\\\\n",
       "\t3 & ageno & 5--9 & 2 \\\\\n",
       "\t4 & ageno & 10--14 & 3 \\\\\n",
       "\t5 & ageno & 15--19 & 4 \\\\\n",
       "\t6 & ageno & 20--24 & 5 \\\\\n",
       "\t7 & ageno & 25--29 & 6 \\\\\n",
       "\t8 & ageno & 30--34 & 7 \\\\\n",
       "\t9 & ageno & 35--39 & 8 \\\\\n",
       "\t10 & ageno & 40--44 & 9 \\\\\n",
       "\t11 & ageno & 45--49 & 10 \\\\\n",
       "\t12 & ageno & 50--54 & 11 \\\\\n",
       "\t13 & ageno & 55--59 & 12 \\\\\n",
       "\t14 & ageno & 60--64 & 13 \\\\\n",
       "\t15 & ageno & 65--69 & 14 \\\\\n",
       "\t16 & ageno & 70--74 & 15 \\\\\n",
       "\t17 & ageno & 75--79 & 16 \\\\\n",
       "\t18 & ageno & 80--84 & 17 \\\\\n",
       "\t19 & ageno & 85--89 & 18 \\\\\n",
       "\t20 & ageno & 90--94 & 19 \\\\\n",
       "\t21 & ageno & 95--99 & 20 \\\\\n",
       "\t22 & ageno & 100+ & 21 \\\\\n",
       "\t23 & sexno & Both & 0 \\\\\n",
       "\t24 & sexno & Male & 1 \\\\\n",
       "\t25 & sexno & Female & 2 \\\\\n",
       "\t26 & eduno & Total & 0 \\\\\n",
       "\t27 & eduno & Under 15 & 1 \\\\\n",
       "\t28 & eduno & No Education & 2 \\\\\n",
       "\t29 & eduno & Incomplete Primary & 3 \\\\\n",
       "\t30 & eduno & Primary & 4 \\\\\n",
       "\t$\\dots$ & $\\dots$ & $\\dots$ & $\\dots$ \\\\\n",
       "\\end{tabular}\n"
      ],
      "text/plain": [
       "\u001b[1m310×3 DataFrame\u001b[0m\n",
       "\u001b[1m Row \u001b[0m│\u001b[1m dim     \u001b[0m\u001b[1m name                        \u001b[0m\u001b[1m code  \u001b[0m\n",
       "     │\u001b[90m String7 \u001b[0m\u001b[90m String                      \u001b[0m\u001b[90m Int64 \u001b[0m\n",
       "─────┼─────────────────────────────────────────────\n",
       "   1 │ ageno    All                              0\n",
       "   2 │ ageno    0--4                             1\n",
       "   3 │ ageno    5--9                             2\n",
       "   4 │ ageno    10--14                           3\n",
       "   5 │ ageno    15--19                           4\n",
       "   6 │ ageno    20--24                           5\n",
       "   7 │ ageno    25--29                           6\n",
       "   8 │ ageno    30--34                           7\n",
       "   9 │ ageno    35--39                           8\n",
       "  10 │ ageno    40--44                           9\n",
       "  11 │ ageno    45--49                          10\n",
       "  ⋮  │    ⋮                  ⋮                 ⋮\n",
       " 301 │ isono    Palau                          585\n",
       " 302 │ isono    American Samoa                  16\n",
       " 303 │ isono    Cook Islands                   184\n",
       " 304 │ isono    French Polynesia               258\n",
       " 305 │ isono    Niue                           570\n",
       " 306 │ isono    Samoa                          882\n",
       " 307 │ isono    Tokelau                        772\n",
       " 308 │ isono    Tonga                          776\n",
       " 309 │ isono    Tuvalu                         798\n",
       " 310 │ isono    Wallis and Futuna Islands      876\n",
       "\u001b[36m                                   289 rows omitted\u001b[0m"
      ]
     },
     "execution_count": 28,
     "metadata": {},
     "output_type": "execute_result"
    }
   ],
   "source": [
    "df = DataFrame(CSV.File(getfilepath(\"witt_population\", \"recode\")))"
   ]
  },
  {
   "cell_type": "code",
   "execution_count": 117,
   "id": "942c0eb4-6e35-4346-bbb9-003cfa48ae1f",
   "metadata": {
    "tags": []
   },
   "outputs": [
    {
     "data": {
      "text/plain": [
       "235-element Vector{String}:\n",
       " \"Burundi\"\n",
       " \"Comoros\"\n",
       " \"Djibouti\"\n",
       " \"Eritrea\"\n",
       " \"Ethiopia\"\n",
       " \"Kenya\"\n",
       " \"Madagascar\"\n",
       " \"Malawi\"\n",
       " \"Mauritius\"\n",
       " \"Mayotte\"\n",
       " \"Mozambique\"\n",
       " \"Réunion\"\n",
       " \"Rwanda\"\n",
       " ⋮\n",
       " \"France\"\n",
       " \"Germany\"\n",
       " \"Liechtenstein\"\n",
       " \"Luxembourg\"\n",
       " \"Monaco\"\n",
       " \"Netherlands\"\n",
       " \"Switzerland\"\n",
       " \"Bermuda\"\n",
       " \"Canada\"\n",
       " \"Greenland\"\n",
       " \"Saint Pierre and Miquelon\"\n",
       " \"United States of America\""
      ]
     },
     "execution_count": 117,
     "metadata": {},
     "output_type": "execute_result"
    }
   ],
   "source": [
    "un2019countrynames()"
   ]
  },
  {
   "cell_type": "code",
   "execution_count": null,
   "id": "9d1c6193-cd9b-416d-8a74-4658cb4920de",
   "metadata": {},
   "outputs": [],
   "source": []
  }
 ],
 "metadata": {
  "kernelspec": {
   "display_name": "Julia 1.9.2",
   "language": "julia",
   "name": "julia-1.9"
  },
  "language_info": {
   "file_extension": ".jl",
   "mimetype": "application/julia",
   "name": "julia",
   "version": "1.9.2"
  }
 },
 "nbformat": 4,
 "nbformat_minor": 5
}
