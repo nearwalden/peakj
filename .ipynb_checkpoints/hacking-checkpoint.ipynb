{
 "cells": [
  {
   "cell_type": "code",
   "execution_count": 46,
   "id": "b1f03537-3ea8-414d-8a3e-d3d10ce8e472",
   "metadata": {
    "tags": []
   },
   "outputs": [
    {
     "data": {
      "text/plain": [
       "subregions (generic function with 1 method)"
      ]
     },
     "execution_count": 46,
     "metadata": {},
     "output_type": "execute_result"
    }
   ],
   "source": [
    "include(\"locations.jl\")"
   ]
  },
  {
   "cell_type": "code",
   "execution_count": 2,
   "id": "6ff4a6b7-15b7-4566-ae29-8270f749c985",
   "metadata": {
    "tags": []
   },
   "outputs": [],
   "source": [
    "using DataFrames"
   ]
  },
  {
   "cell_type": "code",
   "execution_count": 11,
   "id": "33f6806c-c22e-4b6e-9aa2-bc337b0f0d56",
   "metadata": {
    "tags": []
   },
   "outputs": [],
   "source": [
    "using CSV"
   ]
  },
  {
   "cell_type": "code",
   "execution_count": 5,
   "id": "f3e4af6c-732f-4ee4-9282-7b3b2d41a20b",
   "metadata": {
    "tags": []
   },
   "outputs": [
    {
     "data": {
      "text/html": [
       "<div><div style = \"float: left;\"><span>229×2 DataFrame</span></div><div style = \"float: right;\"><span style = \"font-style: italic;\">204 rows omitted</span></div><div style = \"clear: both;\"></div></div><div class = \"data-frame\" style = \"overflow-x: scroll;\"><table class = \"data-frame\" style = \"margin-bottom: 6px;\"><thead><tr class = \"header\"><th class = \"rowNumber\" style = \"font-weight: bold; text-align: right;\">Row</th><th style = \"text-align: left;\">name</th><th style = \"text-align: left;\">code</th></tr><tr class = \"subheader headerLastRow\"><th class = \"rowNumber\" style = \"font-weight: bold; text-align: right;\"></th><th title = \"String\" style = \"text-align: left;\">String</th><th title = \"Int64\" style = \"text-align: left;\">Int64</th></tr></thead><tbody><tr><td class = \"rowNumber\" style = \"font-weight: bold; text-align: right;\">1</td><td style = \"text-align: left;\">WORLD</td><td style = \"text-align: right;\">900</td></tr><tr><td class = \"rowNumber\" style = \"font-weight: bold; text-align: right;\">2</td><td style = \"text-align: left;\">AFRICA</td><td style = \"text-align: right;\">903</td></tr><tr><td class = \"rowNumber\" style = \"font-weight: bold; text-align: right;\">3</td><td style = \"text-align: left;\">Eastern Africa</td><td style = \"text-align: right;\">910</td></tr><tr><td class = \"rowNumber\" style = \"font-weight: bold; text-align: right;\">4</td><td style = \"text-align: left;\">Middle Africa</td><td style = \"text-align: right;\">911</td></tr><tr><td class = \"rowNumber\" style = \"font-weight: bold; text-align: right;\">5</td><td style = \"text-align: left;\">Northern Africa</td><td style = \"text-align: right;\">912</td></tr><tr><td class = \"rowNumber\" style = \"font-weight: bold; text-align: right;\">6</td><td style = \"text-align: left;\">Southern Africa</td><td style = \"text-align: right;\">913</td></tr><tr><td class = \"rowNumber\" style = \"font-weight: bold; text-align: right;\">7</td><td style = \"text-align: left;\">Western Africa</td><td style = \"text-align: right;\">914</td></tr><tr><td class = \"rowNumber\" style = \"font-weight: bold; text-align: right;\">8</td><td style = \"text-align: left;\">ASIA</td><td style = \"text-align: right;\">935</td></tr><tr><td class = \"rowNumber\" style = \"font-weight: bold; text-align: right;\">9</td><td style = \"text-align: left;\">Eastern Asia</td><td style = \"text-align: right;\">906</td></tr><tr><td class = \"rowNumber\" style = \"font-weight: bold; text-align: right;\">10</td><td style = \"text-align: left;\">Central Asia</td><td style = \"text-align: right;\">5500</td></tr><tr><td class = \"rowNumber\" style = \"font-weight: bold; text-align: right;\">11</td><td style = \"text-align: left;\">Southern Asia</td><td style = \"text-align: right;\">5501</td></tr><tr><td class = \"rowNumber\" style = \"font-weight: bold; text-align: right;\">12</td><td style = \"text-align: left;\">South-Eastern Asia</td><td style = \"text-align: right;\">920</td></tr><tr><td class = \"rowNumber\" style = \"font-weight: bold; text-align: right;\">13</td><td style = \"text-align: left;\">Western Asia</td><td style = \"text-align: right;\">922</td></tr><tr><td style = \"text-align: right;\">&vellip;</td><td style = \"text-align: right;\">&vellip;</td><td style = \"text-align: right;\">&vellip;</td></tr><tr><td class = \"rowNumber\" style = \"font-weight: bold; text-align: right;\">218</td><td style = \"text-align: left;\">New Zealand</td><td style = \"text-align: right;\">554</td></tr><tr><td class = \"rowNumber\" style = \"font-weight: bold; text-align: right;\">219</td><td style = \"text-align: left;\">Fiji</td><td style = \"text-align: right;\">242</td></tr><tr><td class = \"rowNumber\" style = \"font-weight: bold; text-align: right;\">220</td><td style = \"text-align: left;\">New Caledonia</td><td style = \"text-align: right;\">540</td></tr><tr><td class = \"rowNumber\" style = \"font-weight: bold; text-align: right;\">221</td><td style = \"text-align: left;\">Papua New Guinea</td><td style = \"text-align: right;\">598</td></tr><tr><td class = \"rowNumber\" style = \"font-weight: bold; text-align: right;\">222</td><td style = \"text-align: left;\">Solomon Islands</td><td style = \"text-align: right;\">90</td></tr><tr><td class = \"rowNumber\" style = \"font-weight: bold; text-align: right;\">223</td><td style = \"text-align: left;\">Vanuatu</td><td style = \"text-align: right;\">548</td></tr><tr><td class = \"rowNumber\" style = \"font-weight: bold; text-align: right;\">224</td><td style = \"text-align: left;\">Guam</td><td style = \"text-align: right;\">316</td></tr><tr><td class = \"rowNumber\" style = \"font-weight: bold; text-align: right;\">225</td><td style = \"text-align: left;\">Kiribati</td><td style = \"text-align: right;\">296</td></tr><tr><td class = \"rowNumber\" style = \"font-weight: bold; text-align: right;\">226</td><td style = \"text-align: left;\">Micronesia (Fed. States of)</td><td style = \"text-align: right;\">583</td></tr><tr><td class = \"rowNumber\" style = \"font-weight: bold; text-align: right;\">227</td><td style = \"text-align: left;\">French Polynesia</td><td style = \"text-align: right;\">258</td></tr><tr><td class = \"rowNumber\" style = \"font-weight: bold; text-align: right;\">228</td><td style = \"text-align: left;\">Samoa</td><td style = \"text-align: right;\">882</td></tr><tr><td class = \"rowNumber\" style = \"font-weight: bold; text-align: right;\">229</td><td style = \"text-align: left;\">Tonga</td><td style = \"text-align: right;\">776</td></tr></tbody></table></div>"
      ],
      "text/latex": [
       "\\begin{tabular}{r|cc}\n",
       "\t& name & code\\\\\n",
       "\t\\hline\n",
       "\t& String & Int64\\\\\n",
       "\t\\hline\n",
       "\t1 & WORLD & 900 \\\\\n",
       "\t2 & AFRICA & 903 \\\\\n",
       "\t3 & Eastern Africa & 910 \\\\\n",
       "\t4 & Middle Africa & 911 \\\\\n",
       "\t5 & Northern Africa & 912 \\\\\n",
       "\t6 & Southern Africa & 913 \\\\\n",
       "\t7 & Western Africa & 914 \\\\\n",
       "\t8 & ASIA & 935 \\\\\n",
       "\t9 & Eastern Asia & 906 \\\\\n",
       "\t10 & Central Asia & 5500 \\\\\n",
       "\t11 & Southern Asia & 5501 \\\\\n",
       "\t12 & South-Eastern Asia & 920 \\\\\n",
       "\t13 & Western Asia & 922 \\\\\n",
       "\t14 & EUROPE & 908 \\\\\n",
       "\t15 & Eastern Europe & 923 \\\\\n",
       "\t16 & Northern Europe & 924 \\\\\n",
       "\t17 & Southern Europe & 925 \\\\\n",
       "\t18 & Western Europe & 926 \\\\\n",
       "\t19 & LATIN AMERICA AND THE CARIBBEAN & 904 \\\\\n",
       "\t20 & Caribbean & 915 \\\\\n",
       "\t21 & Central America & 916 \\\\\n",
       "\t22 & South America & 931 \\\\\n",
       "\t23 & NORTHERN AMERICA & 905 \\\\\n",
       "\t24 & OCEANIA & 909 \\\\\n",
       "\t25 & Australia/New Zealand & 927 \\\\\n",
       "\t26 & Melanesia & 928 \\\\\n",
       "\t27 & Micronesia & 954 \\\\\n",
       "\t28 & Polynesia & 957 \\\\\n",
       "\t29 & Burundi & 108 \\\\\n",
       "\t30 & Comoros & 174 \\\\\n",
       "\t$\\dots$ & $\\dots$ & $\\dots$ \\\\\n",
       "\\end{tabular}\n"
      ],
      "text/plain": [
       "\u001b[1m229×2 DataFrame\u001b[0m\n",
       "\u001b[1m Row \u001b[0m│\u001b[1m name                        \u001b[0m\u001b[1m code  \u001b[0m\n",
       "     │\u001b[90m String                      \u001b[0m\u001b[90m Int64 \u001b[0m\n",
       "─────┼────────────────────────────────────\n",
       "   1 │ WORLD                          900\n",
       "   2 │ AFRICA                         903\n",
       "   3 │ Eastern Africa                 910\n",
       "   4 │ Middle Africa                  911\n",
       "   5 │ Northern Africa                912\n",
       "   6 │ Southern Africa                913\n",
       "   7 │ Western Africa                 914\n",
       "   8 │ ASIA                           935\n",
       "   9 │ Eastern Asia                   906\n",
       "  10 │ Central Asia                  5500\n",
       "  11 │ Southern Asia                 5501\n",
       "  ⋮  │              ⋮                 ⋮\n",
       " 220 │ New Caledonia                  540\n",
       " 221 │ Papua New Guinea               598\n",
       " 222 │ Solomon Islands                 90\n",
       " 223 │ Vanuatu                        548\n",
       " 224 │ Guam                           316\n",
       " 225 │ Kiribati                       296\n",
       " 226 │ Micronesia (Fed. States of)    583\n",
       " 227 │ French Polynesia               258\n",
       " 228 │ Samoa                          882\n",
       " 229 │ Tonga                          776\n",
       "\u001b[36m                          208 rows omitted\u001b[0m"
      ]
     },
     "execution_count": 5,
     "metadata": {},
     "output_type": "execute_result"
    }
   ],
   "source": [
    "w=wittlocations()"
   ]
  },
  {
   "cell_type": "code",
   "execution_count": 6,
   "id": "942c0eb4-6e35-4346-bbb9-003cfa48ae1f",
   "metadata": {
    "tags": []
   },
   "outputs": [
    {
     "data": {
      "text/plain": [
       "222-element Vector{String}:\n",
       " \"Global\"\n",
       " \"Central Europe, Eastern Europe, and Central Asia\"\n",
       " \"Central Asia\"\n",
       " \"Central Europe\"\n",
       " \"Eastern Europe\"\n",
       " \"High-income\"\n",
       " \"Australasia\"\n",
       " \"High-income Asia Pacific\"\n",
       " \"High-income North America\"\n",
       " \"Southern Latin America\"\n",
       " \"Western Europe\"\n",
       " \"Latin America and Caribbean\"\n",
       " \"Andean Latin America\"\n",
       " ⋮\n",
       " \"Ghana\"\n",
       " \"Guinea\"\n",
       " \"Guinea-Bissau\"\n",
       " \"Liberia\"\n",
       " \"Mali\"\n",
       " \"Mauritania\"\n",
       " \"Niger\"\n",
       " \"Nigeria\"\n",
       " \"Sao Tome and Principe\"\n",
       " \"Senegal\"\n",
       " \"Sierra Leone\"\n",
       " \"Togo\""
      ]
     },
     "execution_count": 6,
     "metadata": {},
     "output_type": "execute_result"
    }
   ],
   "source": [
    "b=bmgflocationnames()"
   ]
  },
  {
   "cell_type": "code",
   "execution_count": 48,
   "id": "9d1c6193-cd9b-416d-8a74-4658cb4920de",
   "metadata": {},
   "outputs": [
    {
     "ename": "LoadError",
     "evalue": "UndefVarError: `unsubregionnames` not defined",
     "output_type": "error",
     "traceback": [
      "UndefVarError: `unsubregionnames` not defined",
      "",
      "Stacktrace:",
      " [1] subregions()",
      "   @ Main ~/gitcode/peakj/locations.jl:177",
      " [2] top-level scope",
      "   @ In[48]:1"
     ]
    }
   ],
   "source": [
    "subregions()"
   ]
  },
  {
   "cell_type": "code",
   "execution_count": 30,
   "id": "e8f0a06d-f972-48a0-925d-0e37a95c31f7",
   "metadata": {
    "tags": []
   },
   "outputs": [
    {
     "name": "stdout",
     "output_type": "stream",
     "text": [
      "BU = 196, WU = 220, All = 185"
     ]
    }
   ],
   "source": [
    "compareallnames(b, w, u2019)"
   ]
  },
  {
   "cell_type": "code",
   "execution_count": 33,
   "id": "e5b43ba2-aec0-4bee-bdfd-e4fa6000b14d",
   "metadata": {},
   "outputs": [
    {
     "data": {
      "text/plain": [
       "Dict{String, Vector{Any}} with 3 entries:\n",
       "  \"un\"   => [1803, 901, 902, 941, 934, 948, 1636, 1637, 1802, 1503  …  20, 292,…\n",
       "  \"both\" => [900, 903, 910, 911, 912, 913, 914, 935, 906, 5500  …  540, 598, 90…\n",
       "  \"witt\" => []"
      ]
     },
     "execution_count": 33,
     "metadata": {},
     "output_type": "execute_result"
    }
   ],
   "source": [
    "comparenumbers(w, u2019)"
   ]
  },
  {
   "cell_type": "code",
   "execution_count": 45,
   "id": "ef725572-8f7e-432e-ac11-9333f1752a53",
   "metadata": {
    "tags": []
   },
   "outputs": [
    {
     "data": {
      "text/plain": [
       "233-element Vector{String}:\n",
       " \"Burundi\"\n",
       " \"Comoros\"\n",
       " \"Djibouti\"\n",
       " \"Eritrea\"\n",
       " \"Ethiopia\"\n",
       " \"Kenya\"\n",
       " \"Madagascar\"\n",
       " \"Malawi\"\n",
       " \"Mauritius\"\n",
       " \"Mayotte\"\n",
       " \"Mozambique\"\n",
       " \"Réunion\"\n",
       " \"Rwanda\"\n",
       " ⋮\n",
       " \"France\"\n",
       " \"Germany\"\n",
       " \"Liechtenstein\"\n",
       " \"Luxembourg\"\n",
       " \"Monaco\"\n",
       " \"Netherlands\"\n",
       " \"Switzerland\"\n",
       " \"Bermuda\"\n",
       " \"Canada\"\n",
       " \"Greenland\"\n",
       " \"Saint Pierre and Miquelon\"\n",
       " \"United States of America\""
      ]
     },
     "execution_count": 45,
     "metadata": {},
     "output_type": "execute_result"
    }
   ],
   "source": [
    "uncountries()"
   ]
  },
  {
   "cell_type": "code",
   "execution_count": null,
   "id": "db327077-7d98-43a6-b855-149f7444c49f",
   "metadata": {},
   "outputs": [],
   "source": []
  }
 ],
 "metadata": {
  "kernelspec": {
   "display_name": "Julia 1.9.2",
   "language": "julia",
   "name": "julia-1.9"
  },
  "language_info": {
   "file_extension": ".jl",
   "mimetype": "application/julia",
   "name": "julia",
   "version": "1.9.2"
  }
 },
 "nbformat": 4,
 "nbformat_minor": 5
}
